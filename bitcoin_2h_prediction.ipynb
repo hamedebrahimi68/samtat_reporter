{
  "nbformat": 4,
  "nbformat_minor": 0,
  "metadata": {
    "colab": {
      "provenance": [],
      "authorship_tag": "ABX9TyOYpFfw+uzdc1YBYwRZHoT2",
      "include_colab_link": true
    },
    "kernelspec": {
      "name": "python3",
      "display_name": "Python 3"
    },
    "language_info": {
      "name": "python"
    }
  },
  "cells": [
    {
      "cell_type": "markdown",
      "metadata": {
        "id": "view-in-github",
        "colab_type": "text"
      },
      "source": [
        "<a href=\"https://colab.research.google.com/github/hamedebrahimi68/samtat_reporter/blob/master/bitcoin_2h_prediction.ipynb\" target=\"_parent\"><img src=\"https://colab.research.google.com/assets/colab-badge.svg\" alt=\"Open In Colab\"/></a>"
      ]
    },
    {
      "cell_type": "code",
      "source": [
        "import yfinance as yf\n",
        "import pandas as pd\n",
        "import numpy as np"
      ],
      "metadata": {
        "id": "y760RRvg34Gz"
      },
      "execution_count": 1,
      "outputs": []
    },
    {
      "cell_type": "code",
      "source": [
        "from sklearn.preprocessing import MinMaxScaler\n",
        "from tensorflow.keras.models import Sequential\n",
        "from tensorflow.keras.layers import LSTM, Dense, Dropout\n",
        "from datetime import datetime, timedelta"
      ],
      "metadata": {
        "id": "pSwz3fmy5QIX"
      },
      "execution_count": 2,
      "outputs": []
    },
    {
      "cell_type": "code",
      "source": [
        "# دریافت داده‌های بیت‌کوین از یاهو فایننس\n",
        "def get_bitcoin_data():\n",
        "    btc = yf.Ticker(\"BTC-USD\")\n",
        "    data = btc.history(period=\"2y\", interval=\"1h\")\n",
        "    return data['Close']"
      ],
      "metadata": {
        "id": "LrvDytT05TKh"
      },
      "execution_count": 3,
      "outputs": []
    },
    {
      "cell_type": "code",
      "source": [
        "# آماده‌سازی داده‌ها برای مدل LSTM\n",
        "def prepare_data(data, time_steps=12):\n",
        "    scaler = MinMaxScaler()\n",
        "    scaled_data = scaler.fit_transform(data.values.reshape(-1, 1))\n",
        "\n",
        "    X, y = [], []\n",
        "    for i in range(len(scaled_data) - time_steps):\n",
        "        X.append(scaled_data[i:i+time_steps])\n",
        "        y.append(scaled_data[i+time_steps])\n",
        "\n",
        "    return np.array(X), np.array(y), scaler"
      ],
      "metadata": {
        "id": "RjWqDTXR5Y2L"
      },
      "execution_count": 4,
      "outputs": []
    },
    {
      "cell_type": "code",
      "source": [
        "# ساخت مدل LSTM\n",
        "def create_model(time_steps):\n",
        "    model = Sequential([\n",
        "        LSTM(units=50, return_sequences=True, input_shape=(time_steps, 1)),\n",
        "        Dropout(0.2),\n",
        "        LSTM(units=50),\n",
        "        Dropout(0.2),\n",
        "        Dense(1)])\n",
        "    model.compile(optimizer='adam', loss='mse')\n",
        "    return model\n"
      ],
      "metadata": {
        "id": "OGSF6B7C5fby"
      },
      "execution_count": 5,
      "outputs": []
    },
    {
      "cell_type": "code",
      "source": [
        "# پیش‌بینی قیمت\n",
        "def predict_price(model, data, scaler, time_steps=12):\n",
        "    last_sequence = data[-time_steps:].values.reshape(-1, 1)\n",
        "    last_sequence = scaler.transform(last_sequence)\n",
        "    last_sequence = last_sequence.reshape(1, time_steps, 1)\n",
        "\n",
        "    predicted_scaled = model.predict(last_sequence)\n",
        "    predicted_price = scaler.inverse_transform(predicted_scaled)[0][0]\n",
        "\n",
        "    return predicted_price"
      ],
      "metadata": {
        "id": "J7-mKBMW5n3U"
      },
      "execution_count": 6,
      "outputs": []
    },
    {
      "cell_type": "code",
      "source": [
        "def main():\n",
        "    # دریافت داده‌ها\n",
        "    print(\"دریافت داده‌های بیت‌کوین...\")\n",
        "    bitcoin_data = get_bitcoin_data()\n",
        "\n",
        "    # آماده‌سازی داده‌ها\n",
        "    TIME_STEPS = 12  # 12 ساعت قبل برای پیش‌بینی 2 ساعت بعد\n",
        "    X, y, scaler = prepare_data(bitcoin_data, TIME_STEPS)\n",
        "\n",
        "    # تقسیم داده‌ها به train و test\n",
        "    train_size = int(len(X)*0.8)\n",
        "    X_train, X_test = X[:train_size], X[train_size:]\n",
        "    y_train, y_test = y[:train_size], y[train_size:]\n",
        "\n",
        "    # ساخت و آموزش مدل\n",
        "    print(\"آموزش مدل LSTM...\")\n",
        "    model = create_model(TIME_STEPS)\n",
        "    model.fit(X_train, y_train, epochs=50, batch_size=32, validation_split=0.1, verbose=1)\n",
        "\n",
        "    # پیش‌بینی قیمت برای 2 ساعت آینده\n",
        "    current_price = bitcoin_data[-1]\n",
        "    predicted_price = predict_price(model, bitcoin_data, scaler, TIME_STEPS)\n",
        "\n",
        "    print(f\"\\nقیمت فعلی بیت‌کوین: ${current_price:.2f}\")\n",
        "    print(f\"قیمت پیش‌بینی شده برای 2 ساعت آینده: ${predicted_price:.2f}\")\n",
        "    print(f\"درصد تغییر پیش‌بینی شده: {((predicted_price - current_price)/current_price):.2f}%\")"
      ],
      "metadata": {
        "id": "PzVp6QzC50eO"
      },
      "execution_count": 9,
      "outputs": []
    },
    {
      "cell_type": "code",
      "source": [
        "main()"
      ],
      "metadata": {
        "colab": {
          "base_uri": "https://localhost:8080/"
        },
        "id": "sPC1cZXe633k",
        "outputId": "a92aea4e-ae2b-4699-8c24-cb587801e24b"
      },
      "execution_count": 8,
      "outputs": [
        {
          "output_type": "stream",
          "name": "stdout",
          "text": [
            "دریافت داده‌های بیت‌کوین...\n",
            "آموزش مدل LSTM...\n",
            "Epoch 1/50\n"
          ]
        },
        {
          "output_type": "stream",
          "name": "stderr",
          "text": [
            "/usr/local/lib/python3.10/dist-packages/keras/src/layers/rnn/rnn.py:204: UserWarning: Do not pass an `input_shape`/`input_dim` argument to a layer. When using Sequential models, prefer using an `Input(shape)` object as the first layer in the model instead.\n",
            "  super().__init__(**kwargs)\n"
          ]
        },
        {
          "output_type": "stream",
          "name": "stdout",
          "text": [
            "\u001b[1m393/393\u001b[0m \u001b[32m━━━━━━━━━━━━━━━━━━━━\u001b[0m\u001b[37m\u001b[0m \u001b[1m15s\u001b[0m 19ms/step - loss: 0.0083 - val_loss: 0.0013\n",
            "Epoch 2/50\n",
            "\u001b[1m393/393\u001b[0m \u001b[32m━━━━━━━━━━━━━━━━━━━━\u001b[0m\u001b[37m\u001b[0m \u001b[1m9s\u001b[0m 15ms/step - loss: 9.2159e-04 - val_loss: 4.1306e-04\n",
            "Epoch 3/50\n",
            "\u001b[1m393/393\u001b[0m \u001b[32m━━━━━━━━━━━━━━━━━━━━\u001b[0m\u001b[37m\u001b[0m \u001b[1m9s\u001b[0m 12ms/step - loss: 0.0010 - val_loss: 1.5037e-04\n",
            "Epoch 4/50\n",
            "\u001b[1m393/393\u001b[0m \u001b[32m━━━━━━━━━━━━━━━━━━━━\u001b[0m\u001b[37m\u001b[0m \u001b[1m5s\u001b[0m 13ms/step - loss: 6.7448e-04 - val_loss: 1.0116e-04\n",
            "Epoch 5/50\n",
            "\u001b[1m393/393\u001b[0m \u001b[32m━━━━━━━━━━━━━━━━━━━━\u001b[0m\u001b[37m\u001b[0m \u001b[1m4s\u001b[0m 11ms/step - loss: 6.5364e-04 - val_loss: 1.0007e-04\n",
            "Epoch 6/50\n",
            "\u001b[1m393/393\u001b[0m \u001b[32m━━━━━━━━━━━━━━━━━━━━\u001b[0m\u001b[37m\u001b[0m \u001b[1m6s\u001b[0m 15ms/step - loss: 5.4142e-04 - val_loss: 1.0483e-04\n",
            "Epoch 7/50\n",
            "\u001b[1m393/393\u001b[0m \u001b[32m━━━━━━━━━━━━━━━━━━━━\u001b[0m\u001b[37m\u001b[0m \u001b[1m9s\u001b[0m 11ms/step - loss: 4.7515e-04 - val_loss: 7.2886e-04\n",
            "Epoch 8/50\n",
            "\u001b[1m393/393\u001b[0m \u001b[32m━━━━━━━━━━━━━━━━━━━━\u001b[0m\u001b[37m\u001b[0m \u001b[1m6s\u001b[0m 15ms/step - loss: 4.9683e-04 - val_loss: 1.8465e-04\n",
            "Epoch 9/50\n",
            "\u001b[1m393/393\u001b[0m \u001b[32m━━━━━━━━━━━━━━━━━━━━\u001b[0m\u001b[37m\u001b[0m \u001b[1m9s\u001b[0m 12ms/step - loss: 4.4587e-04 - val_loss: 2.3141e-04\n",
            "Epoch 10/50\n",
            "\u001b[1m393/393\u001b[0m \u001b[32m━━━━━━━━━━━━━━━━━━━━\u001b[0m\u001b[37m\u001b[0m \u001b[1m6s\u001b[0m 13ms/step - loss: 3.9413e-04 - val_loss: 6.2458e-04\n",
            "Epoch 11/50\n",
            "\u001b[1m393/393\u001b[0m \u001b[32m━━━━━━━━━━━━━━━━━━━━\u001b[0m\u001b[37m\u001b[0m \u001b[1m11s\u001b[0m 14ms/step - loss: 3.9822e-04 - val_loss: 1.6802e-04\n",
            "Epoch 12/50\n",
            "\u001b[1m393/393\u001b[0m \u001b[32m━━━━━━━━━━━━━━━━━━━━\u001b[0m\u001b[37m\u001b[0m \u001b[1m9s\u001b[0m 12ms/step - loss: 4.9550e-04 - val_loss: 2.1446e-04\n",
            "Epoch 13/50\n",
            "\u001b[1m393/393\u001b[0m \u001b[32m━━━━━━━━━━━━━━━━━━━━\u001b[0m\u001b[37m\u001b[0m \u001b[1m6s\u001b[0m 15ms/step - loss: 4.2938e-04 - val_loss: 9.1418e-05\n",
            "Epoch 14/50\n",
            "\u001b[1m393/393\u001b[0m \u001b[32m━━━━━━━━━━━━━━━━━━━━\u001b[0m\u001b[37m\u001b[0m \u001b[1m9s\u001b[0m 11ms/step - loss: 4.2087e-04 - val_loss: 3.8374e-04\n",
            "Epoch 15/50\n",
            "\u001b[1m393/393\u001b[0m \u001b[32m━━━━━━━━━━━━━━━━━━━━\u001b[0m\u001b[37m\u001b[0m \u001b[1m6s\u001b[0m 15ms/step - loss: 4.6295e-04 - val_loss: 5.9270e-04\n",
            "Epoch 16/50\n",
            "\u001b[1m393/393\u001b[0m \u001b[32m━━━━━━━━━━━━━━━━━━━━\u001b[0m\u001b[37m\u001b[0m \u001b[1m4s\u001b[0m 11ms/step - loss: 4.0103e-04 - val_loss: 7.6173e-05\n",
            "Epoch 17/50\n",
            "\u001b[1m393/393\u001b[0m \u001b[32m━━━━━━━━━━━━━━━━━━━━\u001b[0m\u001b[37m\u001b[0m \u001b[1m6s\u001b[0m 14ms/step - loss: 4.0305e-04 - val_loss: 3.2925e-04\n",
            "Epoch 18/50\n",
            "\u001b[1m393/393\u001b[0m \u001b[32m━━━━━━━━━━━━━━━━━━━━\u001b[0m\u001b[37m\u001b[0m \u001b[1m5s\u001b[0m 12ms/step - loss: 4.0693e-04 - val_loss: 5.5214e-04\n",
            "Epoch 19/50\n",
            "\u001b[1m393/393\u001b[0m \u001b[32m━━━━━━━━━━━━━━━━━━━━\u001b[0m\u001b[37m\u001b[0m \u001b[1m5s\u001b[0m 11ms/step - loss: 4.0729e-04 - val_loss: 7.7598e-05\n",
            "Epoch 20/50\n",
            "\u001b[1m393/393\u001b[0m \u001b[32m━━━━━━━━━━━━━━━━━━━━\u001b[0m\u001b[37m\u001b[0m \u001b[1m6s\u001b[0m 15ms/step - loss: 4.2375e-04 - val_loss: 1.3460e-04\n",
            "Epoch 21/50\n",
            "\u001b[1m393/393\u001b[0m \u001b[32m━━━━━━━━━━━━━━━━━━━━\u001b[0m\u001b[37m\u001b[0m \u001b[1m4s\u001b[0m 11ms/step - loss: 3.8369e-04 - val_loss: 2.8136e-04\n",
            "Epoch 22/50\n",
            "\u001b[1m393/393\u001b[0m \u001b[32m━━━━━━━━━━━━━━━━━━━━\u001b[0m\u001b[37m\u001b[0m \u001b[1m5s\u001b[0m 11ms/step - loss: 4.1334e-04 - val_loss: 1.7840e-04\n",
            "Epoch 23/50\n",
            "\u001b[1m393/393\u001b[0m \u001b[32m━━━━━━━━━━━━━━━━━━━━\u001b[0m\u001b[37m\u001b[0m \u001b[1m6s\u001b[0m 14ms/step - loss: 4.1094e-04 - val_loss: 1.7101e-04\n",
            "Epoch 24/50\n",
            "\u001b[1m393/393\u001b[0m \u001b[32m━━━━━━━━━━━━━━━━━━━━\u001b[0m\u001b[37m\u001b[0m \u001b[1m11s\u001b[0m 15ms/step - loss: 4.1334e-04 - val_loss: 1.8711e-04\n",
            "Epoch 25/50\n",
            "\u001b[1m393/393\u001b[0m \u001b[32m━━━━━━━━━━━━━━━━━━━━\u001b[0m\u001b[37m\u001b[0m \u001b[1m5s\u001b[0m 12ms/step - loss: 3.9369e-04 - val_loss: 9.4454e-04\n",
            "Epoch 26/50\n",
            "\u001b[1m393/393\u001b[0m \u001b[32m━━━━━━━━━━━━━━━━━━━━\u001b[0m\u001b[37m\u001b[0m \u001b[1m5s\u001b[0m 12ms/step - loss: 3.8956e-04 - val_loss: 8.2270e-04\n",
            "Epoch 27/50\n",
            "\u001b[1m393/393\u001b[0m \u001b[32m━━━━━━━━━━━━━━━━━━━━\u001b[0m\u001b[37m\u001b[0m \u001b[1m7s\u001b[0m 15ms/step - loss: 4.0381e-04 - val_loss: 5.3489e-04\n",
            "Epoch 28/50\n",
            "\u001b[1m393/393\u001b[0m \u001b[32m━━━━━━━━━━━━━━━━━━━━\u001b[0m\u001b[37m\u001b[0m \u001b[1m9s\u001b[0m 13ms/step - loss: 4.2948e-04 - val_loss: 3.2535e-04\n",
            "Epoch 29/50\n",
            "\u001b[1m393/393\u001b[0m \u001b[32m━━━━━━━━━━━━━━━━━━━━\u001b[0m\u001b[37m\u001b[0m \u001b[1m5s\u001b[0m 14ms/step - loss: 3.6812e-04 - val_loss: 5.1555e-04\n",
            "Epoch 30/50\n",
            "\u001b[1m393/393\u001b[0m \u001b[32m━━━━━━━━━━━━━━━━━━━━\u001b[0m\u001b[37m\u001b[0m \u001b[1m5s\u001b[0m 11ms/step - loss: 4.0083e-04 - val_loss: 1.1013e-04\n",
            "Epoch 31/50\n",
            "\u001b[1m393/393\u001b[0m \u001b[32m━━━━━━━━━━━━━━━━━━━━\u001b[0m\u001b[37m\u001b[0m \u001b[1m6s\u001b[0m 15ms/step - loss: 4.0761e-04 - val_loss: 1.3068e-04\n",
            "Epoch 32/50\n",
            "\u001b[1m393/393\u001b[0m \u001b[32m━━━━━━━━━━━━━━━━━━━━\u001b[0m\u001b[37m\u001b[0m \u001b[1m9s\u001b[0m 11ms/step - loss: 3.9244e-04 - val_loss: 1.3785e-04\n",
            "Epoch 33/50\n",
            "\u001b[1m393/393\u001b[0m \u001b[32m━━━━━━━━━━━━━━━━━━━━\u001b[0m\u001b[37m\u001b[0m \u001b[1m6s\u001b[0m 15ms/step - loss: 3.8644e-04 - val_loss: 2.1982e-04\n",
            "Epoch 34/50\n",
            "\u001b[1m393/393\u001b[0m \u001b[32m━━━━━━━━━━━━━━━━━━━━\u001b[0m\u001b[37m\u001b[0m \u001b[1m4s\u001b[0m 11ms/step - loss: 4.1418e-04 - val_loss: 1.6092e-04\n",
            "Epoch 35/50\n",
            "\u001b[1m393/393\u001b[0m \u001b[32m━━━━━━━━━━━━━━━━━━━━\u001b[0m\u001b[37m\u001b[0m \u001b[1m4s\u001b[0m 11ms/step - loss: 3.8237e-04 - val_loss: 3.5987e-04\n",
            "Epoch 36/50\n",
            "\u001b[1m393/393\u001b[0m \u001b[32m━━━━━━━━━━━━━━━━━━━━\u001b[0m\u001b[37m\u001b[0m \u001b[1m6s\u001b[0m 15ms/step - loss: 4.1491e-04 - val_loss: 1.1056e-04\n",
            "Epoch 37/50\n",
            "\u001b[1m393/393\u001b[0m \u001b[32m━━━━━━━━━━━━━━━━━━━━\u001b[0m\u001b[37m\u001b[0m \u001b[1m9s\u001b[0m 12ms/step - loss: 4.0272e-04 - val_loss: 1.8255e-04\n",
            "Epoch 38/50\n",
            "\u001b[1m393/393\u001b[0m \u001b[32m━━━━━━━━━━━━━━━━━━━━\u001b[0m\u001b[37m\u001b[0m \u001b[1m6s\u001b[0m 14ms/step - loss: 3.8921e-04 - val_loss: 6.8495e-05\n",
            "Epoch 39/50\n",
            "\u001b[1m393/393\u001b[0m \u001b[32m━━━━━━━━━━━━━━━━━━━━\u001b[0m\u001b[37m\u001b[0m \u001b[1m4s\u001b[0m 11ms/step - loss: 3.8587e-04 - val_loss: 2.4550e-04\n",
            "Epoch 40/50\n",
            "\u001b[1m393/393\u001b[0m \u001b[32m━━━━━━━━━━━━━━━━━━━━\u001b[0m\u001b[37m\u001b[0m \u001b[1m7s\u001b[0m 16ms/step - loss: 4.0083e-04 - val_loss: 1.8279e-04\n",
            "Epoch 41/50\n",
            "\u001b[1m393/393\u001b[0m \u001b[32m━━━━━━━━━━━━━━━━━━━━\u001b[0m\u001b[37m\u001b[0m \u001b[1m9s\u001b[0m 12ms/step - loss: 3.8423e-04 - val_loss: 1.8650e-04\n",
            "Epoch 42/50\n",
            "\u001b[1m393/393\u001b[0m \u001b[32m━━━━━━━━━━━━━━━━━━━━\u001b[0m\u001b[37m\u001b[0m \u001b[1m6s\u001b[0m 15ms/step - loss: 3.6571e-04 - val_loss: 9.1369e-05\n",
            "Epoch 43/50\n",
            "\u001b[1m393/393\u001b[0m \u001b[32m━━━━━━━━━━━━━━━━━━━━\u001b[0m\u001b[37m\u001b[0m \u001b[1m9s\u001b[0m 12ms/step - loss: 3.5672e-04 - val_loss: 2.8459e-04\n",
            "Epoch 44/50\n",
            "\u001b[1m393/393\u001b[0m \u001b[32m━━━━━━━━━━━━━━━━━━━━\u001b[0m\u001b[37m\u001b[0m \u001b[1m6s\u001b[0m 14ms/step - loss: 3.6177e-04 - val_loss: 1.2670e-04\n",
            "Epoch 45/50\n",
            "\u001b[1m393/393\u001b[0m \u001b[32m━━━━━━━━━━━━━━━━━━━━\u001b[0m\u001b[37m\u001b[0m \u001b[1m10s\u001b[0m 15ms/step - loss: 3.5922e-04 - val_loss: 2.1275e-04\n",
            "Epoch 46/50\n",
            "\u001b[1m393/393\u001b[0m \u001b[32m━━━━━━━━━━━━━━━━━━━━\u001b[0m\u001b[37m\u001b[0m \u001b[1m9s\u001b[0m 11ms/step - loss: 3.8055e-04 - val_loss: 4.3490e-04\n",
            "Epoch 47/50\n",
            "\u001b[1m393/393\u001b[0m \u001b[32m━━━━━━━━━━━━━━━━━━━━\u001b[0m\u001b[37m\u001b[0m \u001b[1m7s\u001b[0m 15ms/step - loss: 4.3668e-04 - val_loss: 8.1135e-04\n",
            "Epoch 48/50\n",
            "\u001b[1m393/393\u001b[0m \u001b[32m━━━━━━━━━━━━━━━━━━━━\u001b[0m\u001b[37m\u001b[0m \u001b[1m4s\u001b[0m 11ms/step - loss: 3.8810e-04 - val_loss: 3.5448e-04\n",
            "Epoch 49/50\n",
            "\u001b[1m393/393\u001b[0m \u001b[32m━━━━━━━━━━━━━━━━━━━━\u001b[0m\u001b[37m\u001b[0m \u001b[1m6s\u001b[0m 13ms/step - loss: 3.8462e-04 - val_loss: 1.2502e-04\n",
            "Epoch 50/50\n",
            "\u001b[1m393/393\u001b[0m \u001b[32m━━━━━━━━━━━━━━━━━━━━\u001b[0m\u001b[37m\u001b[0m \u001b[1m5s\u001b[0m 14ms/step - loss: 4.0903e-04 - val_loss: 2.2999e-04\n"
          ]
        },
        {
          "output_type": "stream",
          "name": "stderr",
          "text": [
            "<ipython-input-7-9c33aa454ee4>:21: FutureWarning: Series.__getitem__ treating keys as positions is deprecated. In a future version, integer keys will always be treated as labels (consistent with DataFrame behavior). To access a value by position, use `ser.iloc[pos]`\n",
            "  current_price = bitcoin_data[-1]\n"
          ]
        },
        {
          "output_type": "stream",
          "name": "stdout",
          "text": [
            "\u001b[1m1/1\u001b[0m \u001b[32m━━━━━━━━━━━━━━━━━━━━\u001b[0m\u001b[37m\u001b[0m \u001b[1m0s\u001b[0m 279ms/step\n",
            "\n",
            "قیمت فعلی بیت‌کوین: $76383.42\n",
            "قیمت پیش‌بینی شده برای 2 ساعت آینده: $74065.69\n",
            "درصد تغییر پیش‌بینی شده: -0.03%\n"
          ]
        }
      ]
    }
  ]
}